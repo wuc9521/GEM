{
 "cells": [
  {
   "cell_type": "markdown",
   "metadata": {},
   "source": [
    "每次都要重新下载依赖"
   ]
  },
  {
   "cell_type": "code",
   "execution_count": null,
   "metadata": {},
   "outputs": [],
   "source": [
    "%%sh\n",
    "pip3 install -r ./requirements.txt"
   ]
  },
  {
   "cell_type": "markdown",
   "metadata": {},
   "source": [
    "如果说/data目录下的文件包含有下图中的全部, 那就跳过下面这行指令.\n",
    "<center><img src=\"https://naturalifica.oss-cn-nanjing.aliyuncs.com/~/Users/wuchentian/SoloLearning/Blog/source/imgs/image-20231105215016698.png\" style=\"zoom:50%\"></center>"
   ]
  },
  {
   "cell_type": "code",
   "execution_count": null,
   "metadata": {},
   "outputs": [],
   "source": [
    "%%sh\n",
    "cd ./data/raw && python3 -B raw.py && cd ../.."
   ]
  },
  {
   "cell_type": "code",
   "execution_count": null,
   "metadata": {},
   "outputs": [],
   "source": [
    "%%sh\n",
    "MY_PYTHON=\"python3 -B\"\n",
    "MNIST_ROTA=\"--n_layers 2 --n_hiddens 100 --data_path data/ --save_path results/ --batch_size 10 --log_every 100 --samples_per_task 1000 --data_file mnist_rotations.pt    --cuda no  --seed 0\"\n",
    "MNIST_PERM=\"--n_layers 2 --n_hiddens 100 --data_path data/ --save_path results/ --batch_size 10 --log_every 100 --samples_per_task 1000 --data_file mnist_permutations.pt --cuda no  --seed 0\"\n",
    "CIFAR_100i=\"--n_layers 2 --n_hiddens 100 --data_path data/ --save_path results/ --batch_size 10 --log_every 100 --samples_per_task 2500 --data_file cifar100.pt           --cuda yes --seed 0\"\n",
    "\n",
    "cd ./data\n",
    "\n",
    "$MY_PYTHON mnist_permutations.py \\\n",
    "\t--o mnist_permutations.pt \\\n",
    "\t--seed 0 \\\n",
    "\t--n_tasks 20\n",
    "echo \"Generating $/data/mnist_permutations.pt\"\n",
    "\n",
    "$MY_PYTHON mnist_rotations.py \\\n",
    "\t--o mnist_rotations.pt\\\n",
    "\t--seed 0 \\\n",
    "\t--min_rot 0 \\\n",
    "\t--max_rot 180 \\\n",
    "\t--n_tasks 20\n",
    "echo \"Generating $/data/mnist_rotations.pt\"\t\n",
    "\n",
    "$MY_PYTHON cifar100.py \\\n",
    "\t--o cifar100.pt \\\n",
    "\t--seed 0 \\\n",
    "\t--n_tasks 20\n",
    "echo \"Generating $/data/cifar100.pt\"\t\n",
    "\n",
    "cd ..\n",
    "\n",
    "# model \"single\"\n",
    "echo \"Running single model\"\n",
    "$MY_PYTHON main.py $MNIST_ROTA --model single --lr 0.003\n",
    "echo \"Fishishing MNIST_ROTA --model single --lr 0.003\"\n",
    "$MY_PYTHON main.py $MNIST_PERM --model single --lr 0.03\n",
    "echo \"Fishishing MNIST_PERM --model single --lr 0.03\"\n",
    "$MY_PYTHON main.py $CIFAR_100i --model single --lr 1.0\n",
    "echo \"Fishishing CIFAR_100i --model single --lr 1.0\"\n",
    " \n",
    "# model \"independent\"\n",
    "echo \"Running independent model\"\n",
    "$MY_PYTHON main.py $MNIST_ROTA --model independent --lr 0.1  --finetune yes \n",
    "echo \"Fishishing MNIST_ROTA --model independent --lr 0.1  --finetune yes\"\n",
    "$MY_PYTHON main.py $MNIST_PERM --model independent --lr 0.03 --finetune yes \n",
    "echo \"Fishishing MNIST_PERM --model independent --lr 0.03 --finetune yes\"\n",
    "$MY_PYTHON main.py $CIFAR_100i --model independent --lr 0.3  --finetune yes \n",
    "echo \"Fishishing CIFAR_100i --model independent --lr 0.3  --finetune yes\"\n",
    "\n",
    "# model \"multimodal\"\n",
    "echo \"Running multimodal model\"\n",
    "$MY_PYTHON main.py $MNIST_ROTA  --model multimodal --lr 0.1\n",
    "echo \"Fishishing MNIST_ROTA  --model multimodal --lr 0.1\"\n",
    "$MY_PYTHON main.py $MNIST_PERM  --model multimodal --lr 0.1\n",
    "echo \"Fishishing MNIST_PERM  --model multimodal --lr 0.1\"\n",
    "\n",
    "# model \"EWC\"\n",
    "echo \"Running EWC model\"\n",
    "$MY_PYTHON main.py $MNIST_ROTA --model ewc --lr 0.01 --n_memories 1000 --memory_strength 1000\n",
    "echo \"Fishishing MNIST_ROTA --model ewc --lr 0.01 --n_memories 1000 --memory_strength 1000\"\n",
    "$MY_PYTHON main.py $MNIST_PERM --model ewc --lr 0.1  --n_memories 10   --memory_strength 3\n",
    "echo \"Fishishing MNIST_PERM --model ewc --lr 0.1  --n_memories 10   --memory_strength 3\"\n",
    "$MY_PYTHON main.py $CIFAR_100i --model ewc --lr 1.0  --n_memories 10   --memory_strength 1\n",
    "echo \"Fishishing CIFAR_100i --model ewc --lr 1.0  --n_memories 10   --memory_strength 1\"\n",
    "\n",
    "# model \"iCARL\"\n",
    "echo \"Running iCARL model\"\n",
    "$MY_PYTHON main.py $CIFAR_100i --model icarl --lr 1.0 --n_memories 1280 --memory_strength 1\n",
    "echo \"Fishishing CIFAR_100i --model icarl --lr 1.0 --n_memories 1280 --memory_strength 1\"\n",
    "\n",
    "# model \"GEM\"\n",
    "echo \"Running GEM model\"\n",
    "$MY_PYTHON main.py $MNIST_ROTA --model gem --lr 0.1 --n_memories 256 --memory_strength 0.5\n",
    "echo \"Fishishing MNIST_ROTA --model gem --lr 0.1 --n_memories 256 --memory_strength 0.5\"\n",
    "$MY_PYTHON main.py $MNIST_PERM --model gem --lr 0.1 --n_memories 256 --memory_strength 0.5\n",
    "echo \"Fishishing MNIST_PERM --model gem --lr 0.1 --n_memories 256 --memory_strength 0.5\"\n",
    "$MY_PYTHON main.py $CIFAR_100i --model gem --lr 0.1 --n_memories 256 --memory_strength 0.5\n",
    "echo \"Fishishing CIFAR_100i --model gem --lr 0.1 --n_memories 256 --memory_strength 0.5\"\n",
    "\n",
    "# plot results\n",
    "cd results/\n",
    "echo \"Ploting results\"\n",
    "$MY_PYTHON plot_results.py\n",
    "cd .."
   ]
  }
 ],
 "metadata": {
  "kernelspec": {
   "display_name": "base",
   "language": "python",
   "name": "python3"
  },
  "language_info": {
   "codemirror_mode": {
    "name": "ipython",
    "version": 3
   },
   "file_extension": ".py",
   "mimetype": "text/x-python",
   "name": "python",
   "nbconvert_exporter": "python",
   "pygments_lexer": "ipython3",
   "version": "3.10.9"
  }
 },
 "nbformat": 4,
 "nbformat_minor": 2
}
